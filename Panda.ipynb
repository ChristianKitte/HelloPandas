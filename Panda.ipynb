{
  "nbformat": 4,
  "nbformat_minor": 0,
  "metadata": {
    "colab": {
      "name": "Panda.ipynb",
      "provenance": [],
      "collapsed_sections": [],
      "authorship_tag": "ABX9TyMU8k9eOqvA81MUZG7m5N5k",
      "include_colab_link": true
    },
    "kernelspec": {
      "name": "python3",
      "display_name": "Python 3"
    },
    "language_info": {
      "name": "python"
    },
    "accelerator": "GPU"
  },
  "cells": [
    {
      "cell_type": "markdown",
      "metadata": {
        "id": "view-in-github",
        "colab_type": "text"
      },
      "source": [
        "<a href=\"https://colab.research.google.com/github/ChristianKitte/HelloPandas/blob/main/Panda.ipynb\" target=\"_parent\"><img src=\"https://colab.research.google.com/assets/colab-badge.svg\" alt=\"Open In Colab\"/></a>"
      ]
    },
    {
      "cell_type": "markdown",
      "metadata": {
        "id": "v1csWOvHF2zi"
      },
      "source": [
        "**Infos und Dokus**\n",
        "\n",
        "\n",
        "![image.png](data:image/png;base64,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)\n",
        "\n",
        "...wie geil ist das denn, dass ich jetzt einfach Bilder einfügen kann :)\n"
      ]
    },
    {
      "cell_type": "markdown",
      "metadata": {
        "id": "dzL47Zn6HMT0"
      },
      "source": [
        "***Ressourcen***\n",
        "\n",
        "* https://numpy.org/\n",
        "* https://pandas.pydata.org/ \n",
        "* https://pandas.pydata.org/pandas-docs/version/0.23/\n",
        "* https://www.tutorialspoint.com/google_colab\n"
      ]
    },
    {
      "cell_type": "code",
      "metadata": {
        "colab": {
          "base_uri": "https://localhost:8080/",
          "height": 35
        },
        "id": "utAlz-qKv0MX",
        "outputId": "b064b537-018d-4336-fdc1-a48e67142489"
      },
      "source": [
        "%%html\n",
        "<marquee style='width: 50%; color: Green;'>Data Science - EA 4 - Do the following exercise in a Jupyter Notebook</marquee>"
      ],
      "execution_count": null,
      "outputs": [
        {
          "output_type": "display_data",
          "data": {
            "text/html": [
              "<marquee style='width: 50%; color: Green;'>Data Science - EA 4 - Do the following exercise in a Jupyter Notebook</marquee>"
            ],
            "text/plain": [
              "<IPython.core.display.HTML object>"
            ]
          },
          "metadata": {
            "tags": []
          }
        }
      ]
    },
    {
      "cell_type": "markdown",
      "metadata": {
        "id": "tIIRlSx7Cqvc"
      },
      "source": [
        "***1) Importe der Bibliotheken und Download der Quelldatei von GitHub***"
      ]
    },
    {
      "cell_type": "code",
      "metadata": {
        "id": "LCwb8ewaCw5l",
        "colab": {
          "base_uri": "https://localhost:8080/"
        },
        "outputId": "2ca12bdc-3121-46b3-bfa7-6e3fd9d3a3d3"
      },
      "source": [
        "# Importe\n",
        "import pandas as pd #https://pandas.pydata.org/\n",
        "import numpy as np\n",
        "\n",
        "print(\"imports done\")"
      ],
      "execution_count": null,
      "outputs": [
        {
          "output_type": "stream",
          "text": [
            "imports done\n"
          ],
          "name": "stdout"
        }
      ]
    },
    {
      "cell_type": "code",
      "metadata": {
        "colab": {
          "base_uri": "https://localhost:8080/"
        },
        "id": "5qCOurzKLAFA",
        "outputId": "cc6047c3-6669-4b3a-8c9e-76e02c817ce3"
      },
      "source": [
        "url = 'https://raw.githubusercontent.com/edlich/eternalrepo/master/DS-WAHLFACH/countries.csv'\n",
        "data = pd.read_csv(url)\n",
        "\n",
        "print(\"Daten wurden herunter geladen...\")\n",
        "print(\"Datentyp = \" + str(type(data)))"
      ],
      "execution_count": null,
      "outputs": [
        {
          "output_type": "stream",
          "text": [
            "Daten wurden herunter geladen...\n",
            "Datentyp = <class 'pandas.core.frame.DataFrame'>\n"
          ],
          "name": "stdout"
        }
      ]
    },
    {
      "cell_type": "markdown",
      "metadata": {
        "id": "Oomfksp7C_q6"
      },
      "source": [
        "***2) Einige Informationen über den Datensatz anzeigen***"
      ]
    },
    {
      "cell_type": "code",
      "metadata": {
        "colab": {
          "base_uri": "https://localhost:8080/"
        },
        "id": "xF69ydcVgEcI",
        "outputId": "455e74ac-ac5b-4e8c-c44d-a1d40091442f"
      },
      "source": [
        "print(\"Nützliche Basisinformationen:\")\n",
        "print()\n",
        "\n",
        "print(\"Anzahl Elemente = \" + str(data.size))\n",
        "print()\n",
        "print(\"Ersten 3 Zeilen:\")\n",
        "print(data.head(3))\n",
        "print()\n",
        "print(\"Letzten 4 Zeilen:\")\n",
        "print(data.tail(4))\n",
        "print(\"Shape: \" + str(data.shape))\n",
        "print()\n",
        "print(\"Spalten: \" + str(data.columns))\n",
        "print()\n",
        "#print(\"Shape: \" + str(data.info))\n",
        "#print()\n",
        "print(\"Anzahl non-NaN Daten je Spalte : \")\n",
        "print(str(data.count()))\n",
        "print()"
      ],
      "execution_count": null,
      "outputs": [
        {
          "output_type": "stream",
          "text": [
            "Nützliche Basisinformationen:\n",
            "\n",
            "Anzahl Elemente = 25\n",
            "\n",
            "Ersten 3 Zeilen:\n",
            "      Name     People     Area   BIP Currency\n",
            "0  Germany   82521653   357385  3466      EUR\n",
            "1    Japan  126045000   377835  4938      YEN\n",
            "2   Canada   36503097  9984670  1529      CAD\n",
            "\n",
            "Letzten 4 Zeilen:\n",
            "       Name     People     Area   BIP Currency\n",
            "1     Japan  126045000   377835  4938      YEN\n",
            "2    Canada   36503097  9984670  1529      CAD\n",
            "3     Italy   60501718   301338  1850      EUR\n",
            "4  Brazilia  208360000  8515770  1798     REAL\n",
            "Shape: (5, 5)\n",
            "\n",
            "Spalten: Index(['Name', 'People', 'Area', 'BIP', 'Currency'], dtype='object')\n",
            "\n",
            "Anzahl non-NaN Daten je Spalte : \n",
            "Name        5\n",
            "People      5\n",
            "Area        5\n",
            "BIP         5\n",
            "Currency    5\n",
            "dtype: int64\n",
            "\n"
          ],
          "name": "stdout"
        }
      ]
    },
    {
      "cell_type": "markdown",
      "metadata": {
        "id": "dJA45-ZTyq93"
      },
      "source": [
        "***3) Sortierung, Summen, Mittelwert und Median***\n",
        "\n",
        "Bitte wählen Sie für die folgenden drei Ausgaben jeweils eine Spalte aus und betätigen Sie dann den Pfeil auf der linken Seite, um die Ausgabe darunter zu aktualisieren"
      ]
    },
    {
      "cell_type": "code",
      "metadata": {
        "colab": {
          "base_uri": "https://localhost:8080/"
        },
        "id": "xQBteTX7sp3A",
        "cellView": "form",
        "outputId": "6424a251-3fce-45de-be80-8fb74b72867c"
      },
      "source": [
        "auswahl = \"BIP\" #@param [\"Name\", \"People\", \"Area\", \"BIP\"]\n",
        "sortdir = \"DESC\" #@param [\"ASC\", \"DESC\"]\n",
        "\n",
        "print(\"Eine sortierte Ausgabe der Daten\")\n",
        "print()\n",
        "\n",
        "print(\"Aktuell sortiert nach - \" + auswahl)\n",
        "print()\n",
        "\n",
        "asc=True\n",
        "\n",
        "if sortdir==\"ASC\":\n",
        "  asc=True\n",
        "else:\n",
        "  asc=False\n",
        "\n",
        "if auswahl==\"Name\":\n",
        "  print(data.sort_values(by=\"Name\",ascending=asc))  # Case Sensitive!\n",
        "elif auswahl==\"People\":  \n",
        "  print(data.sort_values(by=\"People\",ascending=asc))  # Case Sensitive!\n",
        "elif auswahl==\"Area\":  \n",
        "  print(data.sort_values(by=\"Area\",ascending=asc))  # Case Sensitive!\n",
        "elif auswahl==\"BIP\":  \n",
        "  print(data.sort_values(by=\"BIP\",ascending=asc))  # Case Sensitive!"
      ],
      "execution_count": null,
      "outputs": [
        {
          "output_type": "stream",
          "text": [
            "Eine sortierte Ausgabe der Daten\n",
            "\n",
            "Aktuell sortiert nach - BIP\n",
            "\n",
            "       Name     People     Area   BIP Currency\n",
            "1     Japan  126045000   377835  4938      YEN\n",
            "0   Germany   82521653   357385  3466      EUR\n",
            "3     Italy   60501718   301338  1850      EUR\n",
            "4  Brazilia  208360000  8515770  1798     REAL\n",
            "2    Canada   36503097  9984670  1529      CAD\n"
          ],
          "name": "stdout"
        }
      ]
    },
    {
      "cell_type": "code",
      "metadata": {
        "colab": {
          "base_uri": "https://localhost:8080/"
        },
        "cellView": "form",
        "id": "_Hfv-7SQgN1c",
        "outputId": "f313d91e-e0e4-48f3-8f7b-7fe201454dff"
      },
      "source": [
        "auswahl = \"BIP\" #@param [\"People\", \"Area\", \"BIP\"]\n",
        "\n",
        "print(\"Summen...\")\n",
        "print()\n",
        "\n",
        "print(\"Aktuell - \" + auswahl)\n",
        "print()\n",
        "\n",
        "if auswahl==\"People\":\n",
        "  print(\"Anzahl Menschen: \" + str(data[\"People\"].sum()))  # Case Sensitive!\n",
        "  d = data[\"People\"]\n",
        "  print(str(type(d)))\n",
        "elif auswahl==\"Area\":  \n",
        "  print(\"Größe der Fläche: \" + str(data[\"Area\"].sum()))  # Case Sensitive!\n",
        "  d = data[\"Area\"]\n",
        "  print(str(type(d)))\n",
        "elif auswahl==\"BIP\":  \n",
        "  print(\"Größe BIP: \" + str(data[\"BIP\"].sum()))  # Case Sensitive!\n",
        "  d = data[\"BIP\"]\n",
        "  print(str(type(d)))"
      ],
      "execution_count": null,
      "outputs": [
        {
          "output_type": "stream",
          "text": [
            "Summen...\n",
            "\n",
            "Aktuell - BIP\n",
            "\n",
            "Größe BIP: 13581\n",
            "<class 'pandas.core.series.Series'>\n"
          ],
          "name": "stdout"
        }
      ]
    },
    {
      "cell_type": "code",
      "metadata": {
        "colab": {
          "base_uri": "https://localhost:8080/"
        },
        "id": "RPw1L_k2nhvq",
        "cellView": "form",
        "outputId": "adb62e4a-8964-4260-8624-f5b540276f6f"
      },
      "source": [
        "auswahl = \"BIP\" #@param [\"People\", \"Area\", \"BIP\"]\n",
        "\n",
        "print(\"Durchschnittswerte...\")\n",
        "print()\n",
        "\n",
        "print(\"Aktuell - \" + auswahl)\n",
        "print()\n",
        "\n",
        "if auswahl==\"People\":\n",
        "  print(\"über die Anzahl Menschen: \" + str(data[\"People\"].mean()))  # Case Sensitive!\n",
        "  d = data[\"People\"]\n",
        "  print(str(type(d)))\n",
        "elif auswahl==\"Area\":  \n",
        "  print(\"über die Größe der Fläche: \" + str(data[\"Area\"].mean()))  # Case Sensitive!\n",
        "  d = data[\"Area\"]\n",
        "  print(str(type(d)))\n",
        "elif auswahl==\"BIP\":  \n",
        "  print(\"über den BIP: \" + str(data[\"BIP\"].mean()))  # Case Sensitive!\n",
        "  d = data[\"BIP\"]\n",
        "  print(str(type(d)))"
      ],
      "execution_count": null,
      "outputs": [
        {
          "output_type": "stream",
          "text": [
            "Durchschnittswerte...\n",
            "\n",
            "Aktuell - BIP\n",
            "\n",
            "über den BIP: 2716.2\n",
            "<class 'pandas.core.series.Series'>\n"
          ],
          "name": "stdout"
        }
      ]
    },
    {
      "cell_type": "code",
      "metadata": {
        "colab": {
          "base_uri": "https://localhost:8080/"
        },
        "cellView": "form",
        "id": "5rFHWj9GBMi6",
        "outputId": "97d132d4-b480-403e-b55a-2a5e1c6192d9"
      },
      "source": [
        "auswahl = \"BIP\" #@param [\"People\", \"Area\", \"BIP\"]\n",
        "\n",
        "print(\"Median...\")\n",
        "print()\n",
        "\n",
        "print(\"Aktuell - \" + auswahl)\n",
        "print()\n",
        "\n",
        "if auswahl==\"People\":\n",
        "  print(\"über die Anzahl Menschen: \" + str(data[\"People\"].median()))  # Case Sensitive!\n",
        "  d = data[\"People\"]\n",
        "  print(str(type(d)))\n",
        "elif auswahl==\"Area\":  \n",
        "  print(\"über die Größe der Fläche: \" + str(data[\"Area\"].median()))  # Case Sensitive!\n",
        "  d = data[\"Area\"]\n",
        "  print(str(type(d)))\n",
        "elif auswahl==\"BIP\":  \n",
        "  print(\"über den BIP: \" + str(data[\"BIP\"].median()))  # Case Sensitive!\n",
        "  d = data[\"BIP\"]\n",
        "  print(str(type(d)))"
      ],
      "execution_count": null,
      "outputs": [
        {
          "output_type": "stream",
          "text": [
            "Median...\n",
            "\n",
            "Aktuell - BIP\n",
            "\n",
            "über den BIP: 1850.0\n",
            "<class 'pandas.core.series.Series'>\n"
          ],
          "name": "stdout"
        }
      ]
    },
    {
      "cell_type": "markdown",
      "metadata": {
        "id": "A6f6g9xq-kAW"
      },
      "source": [
        "***4) Filterungen und Spaltenauswahl zur Anzeige***\n",
        "\n",
        "Hierbei handelt es sich speziell um die Aufgaben:\n",
        "\n",
        "* Show all the row of countries who have the EURO\n",
        "* Show only name and Currency in a new data frame\n",
        "* Show only the rows/countries that have more than 2000 BIP (it is in Milliarden USD Bruttoinlandsprodukt)\n",
        "* Select all countries where with inhabitants between 50 and 150 Mio"
      ]
    },
    {
      "cell_type": "code",
      "metadata": {
        "colab": {
          "base_uri": "https://localhost:8080/",
          "height": 149
        },
        "id": "tv1tqT6E3dV-",
        "outputId": "1b317a9f-efc2-48a1-e5a3-d33f79019118"
      },
      "source": [
        "# https://cmdlinetips.com/2018/02/how-to-subset-pandas-dataframe-based-on-values-of-a-column/\n",
        "# https://stackoverflow.com/questions/11285613/selecting-multiple-columns-in-a-pandas-dataframe\n",
        "\n",
        "print(\"Alle Länder, welche den Euro als Währung haben. Es werden nur die Felder 'Name' und 'Währung' ausgegeben...\")\n",
        "print()\n",
        "\n",
        "filteredDataFrame=data[\"Currency\"]==\"EUR\"\n",
        "\n",
        "filteredView=data[filteredDataFrame]\n",
        "filteredView\n",
        "\n",
        "res=filteredView[[\"Name\",\"Currency\"]]\n",
        "res"
      ],
      "execution_count": null,
      "outputs": [
        {
          "output_type": "stream",
          "text": [
            "Alle Länder, welche den Euro als Währung haben. Es werden nur die Felder 'Name' und 'Währung' ausgegeben...\n",
            "\n"
          ],
          "name": "stdout"
        },
        {
          "output_type": "execute_result",
          "data": {
            "text/html": [
              "<div>\n",
              "<style scoped>\n",
              "    .dataframe tbody tr th:only-of-type {\n",
              "        vertical-align: middle;\n",
              "    }\n",
              "\n",
              "    .dataframe tbody tr th {\n",
              "        vertical-align: top;\n",
              "    }\n",
              "\n",
              "    .dataframe thead th {\n",
              "        text-align: right;\n",
              "    }\n",
              "</style>\n",
              "<table border=\"1\" class=\"dataframe\">\n",
              "  <thead>\n",
              "    <tr style=\"text-align: right;\">\n",
              "      <th></th>\n",
              "      <th>Name</th>\n",
              "      <th>Currency</th>\n",
              "    </tr>\n",
              "  </thead>\n",
              "  <tbody>\n",
              "    <tr>\n",
              "      <th>0</th>\n",
              "      <td>Germany</td>\n",
              "      <td>EUR</td>\n",
              "    </tr>\n",
              "    <tr>\n",
              "      <th>3</th>\n",
              "      <td>Italy</td>\n",
              "      <td>EUR</td>\n",
              "    </tr>\n",
              "  </tbody>\n",
              "</table>\n",
              "</div>"
            ],
            "text/plain": [
              "      Name Currency\n",
              "0  Germany      EUR\n",
              "3    Italy      EUR"
            ]
          },
          "metadata": {
            "tags": []
          },
          "execution_count": 154
        }
      ]
    },
    {
      "cell_type": "code",
      "metadata": {
        "colab": {
          "base_uri": "https://localhost:8080/",
          "height": 149
        },
        "id": "th3YtAF-EPH3",
        "outputId": "72dbf8ac-6b74-4d36-856f-385e17fbe68c"
      },
      "source": [
        "print(\"Alle Länder, welche einen BIP von mehr(!) als 2000 haben. Es werden nur die Felder 'Name' und 'BIP' ausgegeben...\")\n",
        "print()\n",
        "\n",
        "filteredDataFrame=data[\"BIP\"]>2000 # nice to have no problems here :)\n",
        "\n",
        "filteredView=data[filteredDataFrame] # filteredDataFrame enthält True/False Werte! Diese werden Hier zur Filterung verwendet.\n",
        "filteredView\n",
        "\n",
        "res=filteredView[[\"Name\",\"BIP\"]]\n",
        "res"
      ],
      "execution_count": null,
      "outputs": [
        {
          "output_type": "stream",
          "text": [
            "Alle Länder, welche einen BIP von mehr(!) als 2000 haben. Es werden nur die Felder 'Name' und 'BIP' ausgegeben...\n",
            "\n"
          ],
          "name": "stdout"
        },
        {
          "output_type": "execute_result",
          "data": {
            "text/html": [
              "<div>\n",
              "<style scoped>\n",
              "    .dataframe tbody tr th:only-of-type {\n",
              "        vertical-align: middle;\n",
              "    }\n",
              "\n",
              "    .dataframe tbody tr th {\n",
              "        vertical-align: top;\n",
              "    }\n",
              "\n",
              "    .dataframe thead th {\n",
              "        text-align: right;\n",
              "    }\n",
              "</style>\n",
              "<table border=\"1\" class=\"dataframe\">\n",
              "  <thead>\n",
              "    <tr style=\"text-align: right;\">\n",
              "      <th></th>\n",
              "      <th>Name</th>\n",
              "      <th>BIP</th>\n",
              "    </tr>\n",
              "  </thead>\n",
              "  <tbody>\n",
              "    <tr>\n",
              "      <th>0</th>\n",
              "      <td>Germany</td>\n",
              "      <td>3466</td>\n",
              "    </tr>\n",
              "    <tr>\n",
              "      <th>1</th>\n",
              "      <td>Japan</td>\n",
              "      <td>4938</td>\n",
              "    </tr>\n",
              "  </tbody>\n",
              "</table>\n",
              "</div>"
            ],
            "text/plain": [
              "      Name   BIP\n",
              "0  Germany  3466\n",
              "1    Japan  4938"
            ]
          },
          "metadata": {
            "tags": []
          },
          "execution_count": 155
        }
      ]
    },
    {
      "cell_type": "code",
      "metadata": {
        "colab": {
          "base_uri": "https://localhost:8080/",
          "height": 204
        },
        "id": "srM_kIm3HKTK",
        "outputId": "b3718ed4-842f-4289-ce9f-5483860f8acb"
      },
      "source": [
        "print(\"...die bessere Möglichkeit, die Aufgabe zu lösen, da hier die Filterung sofort ausgeführt wird. Zum \") \n",
        "print(\"Vergleich: Oben wurden Boolsche Werte zurück gegeben, welche dann in einen zweiten Schritte für die \") \n",
        "print(\"eigentliche Filterung verwendet wurden. Es ist aber gut, auch diesen Weg zu kennen, der vielleicht \")\n",
        "print(\"mal nützlich sein kann.\") \n",
        "print()\n",
        "\n",
        "filteredDataFrame=data[data[\"BIP\"]>2000] # nice to know :)\n",
        "filteredDataFrame[[\"Name\",\"BIP\"]]"
      ],
      "execution_count": null,
      "outputs": [
        {
          "output_type": "stream",
          "text": [
            "...die bessere Möglichkeit, die Aufgabe zu lösen, da hier die Filterung sofort ausgeführt wird. Zum \n",
            "Vergleich: Oben wurden Boolsche Werte zurück gegeben, welche dann in einen zweiten Schritte für die \n",
            "eigentliche Filterung verwendet wurden. Es ist aber gut, auch diesen Weg zu kennen, der vielleicht \n",
            "mal nützlich sein kann.\n",
            "\n"
          ],
          "name": "stdout"
        },
        {
          "output_type": "execute_result",
          "data": {
            "text/html": [
              "<div>\n",
              "<style scoped>\n",
              "    .dataframe tbody tr th:only-of-type {\n",
              "        vertical-align: middle;\n",
              "    }\n",
              "\n",
              "    .dataframe tbody tr th {\n",
              "        vertical-align: top;\n",
              "    }\n",
              "\n",
              "    .dataframe thead th {\n",
              "        text-align: right;\n",
              "    }\n",
              "</style>\n",
              "<table border=\"1\" class=\"dataframe\">\n",
              "  <thead>\n",
              "    <tr style=\"text-align: right;\">\n",
              "      <th></th>\n",
              "      <th>Name</th>\n",
              "      <th>BIP</th>\n",
              "    </tr>\n",
              "  </thead>\n",
              "  <tbody>\n",
              "    <tr>\n",
              "      <th>0</th>\n",
              "      <td>Germany</td>\n",
              "      <td>3466</td>\n",
              "    </tr>\n",
              "    <tr>\n",
              "      <th>1</th>\n",
              "      <td>Japan</td>\n",
              "      <td>4938</td>\n",
              "    </tr>\n",
              "  </tbody>\n",
              "</table>\n",
              "</div>"
            ],
            "text/plain": [
              "      Name   BIP\n",
              "0  Germany  3466\n",
              "1    Japan  4938"
            ]
          },
          "metadata": {
            "tags": []
          },
          "execution_count": 156
        }
      ]
    },
    {
      "cell_type": "code",
      "metadata": {
        "colab": {
          "base_uri": "https://localhost:8080/",
          "height": 180
        },
        "id": "f0XMeN0uFMyF",
        "outputId": "373ae17f-097c-4f6f-cec0-97fd2180fdca"
      },
      "source": [
        "#https://stackoverflow.com/questions/22086116/how-do-you-filter-pandas-dataframes-by-multiple-columns\n",
        "\n",
        "print(\"Alle Länder mit einer Einwohnerzahl von größer/gleich(!) 50 bis kleiner/gleich(!) 150 Mio. Es werden nur die Felder 'Name' und 'Einwohnerzahl' ausgegeben...\")\n",
        "print()\n",
        "\n",
        "filteredDataFrame=data[(data[\"People\"]>=50000000) & (data[\"People\"]<=150000000)] # cool :)\n",
        "filteredDataFrame[[\"Name\",\"People\"]]"
      ],
      "execution_count": null,
      "outputs": [
        {
          "output_type": "stream",
          "text": [
            "Alle Länder mit einer Einwohnerzahl von größer/gleich(!) 50 bis kleiner/gleich(!) 150 Mio. Es werden nur die Felder 'Name' und 'Einwohnerzahl' ausgegeben...\n",
            "\n"
          ],
          "name": "stdout"
        },
        {
          "output_type": "execute_result",
          "data": {
            "text/html": [
              "<div>\n",
              "<style scoped>\n",
              "    .dataframe tbody tr th:only-of-type {\n",
              "        vertical-align: middle;\n",
              "    }\n",
              "\n",
              "    .dataframe tbody tr th {\n",
              "        vertical-align: top;\n",
              "    }\n",
              "\n",
              "    .dataframe thead th {\n",
              "        text-align: right;\n",
              "    }\n",
              "</style>\n",
              "<table border=\"1\" class=\"dataframe\">\n",
              "  <thead>\n",
              "    <tr style=\"text-align: right;\">\n",
              "      <th></th>\n",
              "      <th>Name</th>\n",
              "      <th>People</th>\n",
              "    </tr>\n",
              "  </thead>\n",
              "  <tbody>\n",
              "    <tr>\n",
              "      <th>0</th>\n",
              "      <td>Germany</td>\n",
              "      <td>82521653</td>\n",
              "    </tr>\n",
              "    <tr>\n",
              "      <th>1</th>\n",
              "      <td>Japan</td>\n",
              "      <td>126045000</td>\n",
              "    </tr>\n",
              "    <tr>\n",
              "      <th>3</th>\n",
              "      <td>Italy</td>\n",
              "      <td>60501718</td>\n",
              "    </tr>\n",
              "  </tbody>\n",
              "</table>\n",
              "</div>"
            ],
            "text/plain": [
              "      Name     People\n",
              "0  Germany   82521653\n",
              "1    Japan  126045000\n",
              "3    Italy   60501718"
            ]
          },
          "metadata": {
            "tags": []
          },
          "execution_count": 157
        }
      ]
    },
    {
      "cell_type": "markdown",
      "metadata": {
        "id": "LBOCAAt48f4q"
      },
      "source": [
        "**5) Feld BIP in Bip umbenennen und die Summe kalkulieren**\n",
        "\n",
        "In diesem Fall gehen ich anders als zuvor vor. Mit Hilfe der Methode rename() benenne ich die Column um, wobei ich inplace auf False setze. Dies führt dazu, dass die ursprüngliche Bezeichnung erhalten bleibt.\n",
        "\n",
        "Würde ich dies nicht machen, so würde das Original DataFrame geändert und vorhergehende Methoden in Bezug zu Operationen auf der Column \"BIP\" auf\n",
        "einen Fehler laufen. \n",
        "\n",
        "Alternativ könnte ich auch grundsätzlich über den Index gehen, hätte hier aber andere Stolperfallen."
      ]
    },
    {
      "cell_type": "code",
      "metadata": {
        "colab": {
          "base_uri": "https://localhost:8080/",
          "height": 243
        },
        "id": "a5sgNaNx8xvQ",
        "outputId": "fd1c42a2-f2df-493f-91a8-50c20c5ab63b"
      },
      "source": [
        "# https://www.geeksforgeeks.org/how-to-rename-columns-in-pandas-dataframe/\n",
        "\n",
        "renamedData=data.rename(columns={\"BIP\":\"Bip\"},inplace=False)\n",
        "\n",
        "print(\"Die Summe des BIP beträgt: \" + str(renamedData[\"Bip\"].sum()))\n",
        "print()\n",
        "renamedData"
      ],
      "execution_count": null,
      "outputs": [
        {
          "output_type": "stream",
          "text": [
            "Die Summe des BIP beträgt: 13581\n",
            "\n"
          ],
          "name": "stdout"
        },
        {
          "output_type": "execute_result",
          "data": {
            "text/html": [
              "<div>\n",
              "<style scoped>\n",
              "    .dataframe tbody tr th:only-of-type {\n",
              "        vertical-align: middle;\n",
              "    }\n",
              "\n",
              "    .dataframe tbody tr th {\n",
              "        vertical-align: top;\n",
              "    }\n",
              "\n",
              "    .dataframe thead th {\n",
              "        text-align: right;\n",
              "    }\n",
              "</style>\n",
              "<table border=\"1\" class=\"dataframe\">\n",
              "  <thead>\n",
              "    <tr style=\"text-align: right;\">\n",
              "      <th></th>\n",
              "      <th>Name</th>\n",
              "      <th>People</th>\n",
              "      <th>Area</th>\n",
              "      <th>Bip</th>\n",
              "      <th>Currency</th>\n",
              "    </tr>\n",
              "  </thead>\n",
              "  <tbody>\n",
              "    <tr>\n",
              "      <th>0</th>\n",
              "      <td>Germany</td>\n",
              "      <td>82521653</td>\n",
              "      <td>357385</td>\n",
              "      <td>3466</td>\n",
              "      <td>EUR</td>\n",
              "    </tr>\n",
              "    <tr>\n",
              "      <th>1</th>\n",
              "      <td>Japan</td>\n",
              "      <td>126045000</td>\n",
              "      <td>377835</td>\n",
              "      <td>4938</td>\n",
              "      <td>YEN</td>\n",
              "    </tr>\n",
              "    <tr>\n",
              "      <th>2</th>\n",
              "      <td>Canada</td>\n",
              "      <td>36503097</td>\n",
              "      <td>9984670</td>\n",
              "      <td>1529</td>\n",
              "      <td>CAD</td>\n",
              "    </tr>\n",
              "    <tr>\n",
              "      <th>3</th>\n",
              "      <td>Italy</td>\n",
              "      <td>60501718</td>\n",
              "      <td>301338</td>\n",
              "      <td>1850</td>\n",
              "      <td>EUR</td>\n",
              "    </tr>\n",
              "    <tr>\n",
              "      <th>4</th>\n",
              "      <td>Brazilia</td>\n",
              "      <td>208360000</td>\n",
              "      <td>8515770</td>\n",
              "      <td>1798</td>\n",
              "      <td>REAL</td>\n",
              "    </tr>\n",
              "  </tbody>\n",
              "</table>\n",
              "</div>"
            ],
            "text/plain": [
              "       Name     People     Area   Bip Currency\n",
              "0   Germany   82521653   357385  3466      EUR\n",
              "1     Japan  126045000   377835  4938      YEN\n",
              "2    Canada   36503097  9984670  1529      CAD\n",
              "3     Italy   60501718   301338  1850      EUR\n",
              "4  Brazilia  208360000  8515770  1798     REAL"
            ]
          },
          "metadata": {
            "tags": []
          },
          "execution_count": 158
        }
      ]
    },
    {
      "cell_type": "markdown",
      "metadata": {
        "id": "YDDdN9l5A8G2"
      },
      "source": [
        "***6) Letzte Aufgabe:***\n",
        "\n",
        "Create a new data frame from the original where the area is changed as follows: all countries with > 1000000 get BIG and <= 1000000 get SMALL in the cell replaced!\n",
        "\n",
        "Im Fehlerfall: Wurden alle Importe ausgeführt? Es wird NumPy verwendet!\n",
        "\n",
        "Coole Links:\n",
        "\n",
        "* https://www.statology.org/create-column-based-on-condition-pandas/\n",
        "* https://queirozf.com/entries/pandas-dataframe-groupby-examples\n",
        "* https://www.geeksforgeeks.org/python-pandas-dataframe-copy-function/\n",
        "* https://towardsdatascience.com/8-ways-to-filter-pandas-dataframes-d34ba585c1b8\n",
        "* https://stackoverflow.com/questions/51167612/what-is-the-best-way-to-remove-columns-in-pandas\n",
        "\n"
      ]
    },
    {
      "cell_type": "code",
      "metadata": {
        "colab": {
          "base_uri": "https://localhost:8080/",
          "height": 206
        },
        "id": "iSELDyavBb8A",
        "outputId": "c232380b-c18d-4b53-96e2-be1b9d3b95b9"
      },
      "source": [
        "newDataFrame = data.copy(deep=True)  # deep=True verhindert, das Änderungen an das Original weitergegeben werden\n",
        "\n",
        "newDataFrame[\"groupedArea\"]=np.where(newDataFrame[\"Area\"]>1000000,'BIG','SMALL')\n",
        "newDataFrame.drop(\"Area\",axis=1,inplace=True)\n",
        "newDataFrame.rename(columns={\"groupedArea\":\"Area\"},inplace=True)\n",
        "newDataFrame.sort_values(by=\"Area\",ascending=False,inplace=True)\n",
        "newDataFrame"
      ],
      "execution_count": null,
      "outputs": [
        {
          "output_type": "execute_result",
          "data": {
            "text/html": [
              "<div>\n",
              "<style scoped>\n",
              "    .dataframe tbody tr th:only-of-type {\n",
              "        vertical-align: middle;\n",
              "    }\n",
              "\n",
              "    .dataframe tbody tr th {\n",
              "        vertical-align: top;\n",
              "    }\n",
              "\n",
              "    .dataframe thead th {\n",
              "        text-align: right;\n",
              "    }\n",
              "</style>\n",
              "<table border=\"1\" class=\"dataframe\">\n",
              "  <thead>\n",
              "    <tr style=\"text-align: right;\">\n",
              "      <th></th>\n",
              "      <th>Name</th>\n",
              "      <th>People</th>\n",
              "      <th>BIP</th>\n",
              "      <th>Currency</th>\n",
              "      <th>Area</th>\n",
              "    </tr>\n",
              "  </thead>\n",
              "  <tbody>\n",
              "    <tr>\n",
              "      <th>0</th>\n",
              "      <td>Germany</td>\n",
              "      <td>82521653</td>\n",
              "      <td>3466</td>\n",
              "      <td>EUR</td>\n",
              "      <td>SMALL</td>\n",
              "    </tr>\n",
              "    <tr>\n",
              "      <th>1</th>\n",
              "      <td>Japan</td>\n",
              "      <td>126045000</td>\n",
              "      <td>4938</td>\n",
              "      <td>YEN</td>\n",
              "      <td>SMALL</td>\n",
              "    </tr>\n",
              "    <tr>\n",
              "      <th>3</th>\n",
              "      <td>Italy</td>\n",
              "      <td>60501718</td>\n",
              "      <td>1850</td>\n",
              "      <td>EUR</td>\n",
              "      <td>SMALL</td>\n",
              "    </tr>\n",
              "    <tr>\n",
              "      <th>2</th>\n",
              "      <td>Canada</td>\n",
              "      <td>36503097</td>\n",
              "      <td>1529</td>\n",
              "      <td>CAD</td>\n",
              "      <td>BIG</td>\n",
              "    </tr>\n",
              "    <tr>\n",
              "      <th>4</th>\n",
              "      <td>Brazilia</td>\n",
              "      <td>208360000</td>\n",
              "      <td>1798</td>\n",
              "      <td>REAL</td>\n",
              "      <td>BIG</td>\n",
              "    </tr>\n",
              "  </tbody>\n",
              "</table>\n",
              "</div>"
            ],
            "text/plain": [
              "       Name     People   BIP Currency   Area\n",
              "0   Germany   82521653  3466      EUR  SMALL\n",
              "1     Japan  126045000  4938      YEN  SMALL\n",
              "3     Italy   60501718  1850      EUR  SMALL\n",
              "2    Canada   36503097  1529      CAD    BIG\n",
              "4  Brazilia  208360000  1798     REAL    BIG"
            ]
          },
          "metadata": {
            "tags": []
          },
          "execution_count": 159
        }
      ]
    }
  ]
}